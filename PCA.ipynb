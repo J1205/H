{
 "cells": [
  {
   "cell_type": "code",
   "execution_count": 1,
   "metadata": {},
   "outputs": [],
   "source": [
    "import matplotlib.pyplot as plt\n",
    "\n",
    "from sklearn.decomposition import PCA\n",
    "from sklearn.preprocessing import StandardScaler\n",
    "\n",
    "from sklearn import metrics\n",
    "from sklearn.model_selection import train_test_split\n",
    "from scipy.io import loadmat\n",
    "\n",
    "import pandas as pd\n",
    "import numpy as np"
   ]
  },
  {
   "cell_type": "code",
   "execution_count": 2,
   "metadata": {},
   "outputs": [
    {
     "data": {
      "text/html": [
       "<div>\n",
       "<style scoped>\n",
       "    .dataframe tbody tr th:only-of-type {\n",
       "        vertical-align: middle;\n",
       "    }\n",
       "\n",
       "    .dataframe tbody tr th {\n",
       "        vertical-align: top;\n",
       "    }\n",
       "\n",
       "    .dataframe thead th {\n",
       "        text-align: right;\n",
       "    }\n",
       "</style>\n",
       "<table border=\"1\" class=\"dataframe\">\n",
       "  <thead>\n",
       "    <tr style=\"text-align: right;\">\n",
       "      <th></th>\n",
       "      <th>Gene symbol</th>\n",
       "      <th>Description</th>\n",
       "      <th>Astrocytes</th>\n",
       "      <th>Neuron</th>\n",
       "      <th>Oligodendrocyte Precursor Cell</th>\n",
       "      <th>Newly Formed Oligodendrocyte</th>\n",
       "      <th>Myelinating Oligodendrocytes</th>\n",
       "      <th>Microglia</th>\n",
       "      <th>Endothelial Cells</th>\n",
       "    </tr>\n",
       "  </thead>\n",
       "  <tbody>\n",
       "    <tr>\n",
       "      <th>0</th>\n",
       "      <td>Fos</td>\n",
       "      <td>V-fos FBJ murine osteosarcoma viral oncogene h...</td>\n",
       "      <td>3526.9</td>\n",
       "      <td>652.9</td>\n",
       "      <td>288.8</td>\n",
       "      <td>73.1</td>\n",
       "      <td>87.0</td>\n",
       "      <td>985.7</td>\n",
       "      <td>746.1</td>\n",
       "    </tr>\n",
       "    <tr>\n",
       "      <th>1</th>\n",
       "      <td>Cst3</td>\n",
       "      <td>Cystatin C (amyloid angiopathy and cerebral he...</td>\n",
       "      <td>3309.3</td>\n",
       "      <td>430.7</td>\n",
       "      <td>2527.0</td>\n",
       "      <td>327.7</td>\n",
       "      <td>655.3</td>\n",
       "      <td>49168.0</td>\n",
       "      <td>721.2</td>\n",
       "    </tr>\n",
       "    <tr>\n",
       "      <th>2</th>\n",
       "      <td>Apoe</td>\n",
       "      <td>Apolipoprotein E</td>\n",
       "      <td>3006.2</td>\n",
       "      <td>200.4</td>\n",
       "      <td>1175.7</td>\n",
       "      <td>142.1</td>\n",
       "      <td>216.1</td>\n",
       "      <td>2460.3</td>\n",
       "      <td>133.1</td>\n",
       "    </tr>\n",
       "  </tbody>\n",
       "</table>\n",
       "</div>"
      ],
      "text/plain": [
       "  Gene symbol                                        Description  Astrocytes  \\\n",
       "0         Fos  V-fos FBJ murine osteosarcoma viral oncogene h...      3526.9   \n",
       "1        Cst3  Cystatin C (amyloid angiopathy and cerebral he...      3309.3   \n",
       "2        Apoe                                   Apolipoprotein E      3006.2   \n",
       "\n",
       "   Neuron  Oligodendrocyte Precursor Cell  Newly Formed Oligodendrocyte  \\\n",
       "0   652.9                           288.8                          73.1   \n",
       "1   430.7                          2527.0                         327.7   \n",
       "2   200.4                          1175.7                         142.1   \n",
       "\n",
       "   Myelinating Oligodendrocytes  Microglia  Endothelial Cells  \n",
       "0                          87.0      985.7              746.1  \n",
       "1                         655.3    49168.0              721.2  \n",
       "2                         216.1     2460.3              133.1  "
      ]
     },
     "execution_count": 2,
     "metadata": {},
     "output_type": "execute_result"
    }
   ],
   "source": [
    "s = pd.read_csv('Barres-1.csv')\n",
    "s.head(3)"
   ]
  },
  {
   "cell_type": "code",
   "execution_count": 3,
   "metadata": {},
   "outputs": [],
   "source": [
    "data = s.iloc[:, 2:]"
   ]
  },
  {
   "cell_type": "code",
   "execution_count": 4,
   "metadata": {},
   "outputs": [],
   "source": [
    "s = data.T"
   ]
  },
  {
   "cell_type": "code",
   "execution_count": 5,
   "metadata": {},
   "outputs": [],
   "source": [
    "s = StandardScaler().fit_transform(s)"
   ]
  },
  {
   "cell_type": "code",
   "execution_count": 6,
   "metadata": {},
   "outputs": [],
   "source": [
    "pca = PCA(n_components=2)"
   ]
  },
  {
   "cell_type": "code",
   "execution_count": 7,
   "metadata": {},
   "outputs": [
    {
     "data": {
      "text/plain": [
       "array([[ 73.8732523 ,   5.12930647],\n",
       "       [ 20.85229253, -11.40596542],\n",
       "       [ 25.61350228,  -2.30266008],\n",
       "       [ -5.87334979, -30.33598185],\n",
       "       [-44.91033751, -44.32026072],\n",
       "       [-53.6229306 ,  24.53047339],\n",
       "       [-15.93242921,  58.70508822]])"
      ]
     },
     "execution_count": 7,
     "metadata": {},
     "output_type": "execute_result"
    }
   ],
   "source": [
    "h = pca.fit_transform(s)\n",
    "h"
   ]
  },
  {
   "cell_type": "code",
   "execution_count": 8,
   "metadata": {},
   "outputs": [],
   "source": [
    "labels = [\n",
    "'Astrocytes', \n",
    "'Neuron',\n",
    "'OPCs', \n",
    "'NFO', \n",
    "'MO', \n",
    "'Microglia', \n",
    "'ECs'\n",
    "]"
   ]
  },
  {
   "cell_type": "code",
   "execution_count": 9,
   "metadata": {},
   "outputs": [
    {
     "data": {
      "image/png": "[encoded data removed]",
      "text/plain": [
       "<Figure size 360x360 with 1 Axes>"
      ]
     },
     "metadata": {},
     "output_type": "display_data"
    }
   ],
   "source": [
    "# PCA 2D projection의 시각화.\n",
    "fig = plt.figure(figsize = (5,5))\n",
    "ax = fig.add_subplot(1,1,1) \n",
    "\n",
    "# 각각의 label에 원하는 색깔을 입힌 플롯을 그리고 싶을 때 흔히 사용하는 코드입니다. 'zip'\n",
    "\n",
    "for i in range(7):\n",
    "    plt.scatter(h[i, 0], h[i, 1], label=labels[i])\n",
    "    \n",
    "plt.xlabel('PC 1')\n",
    "plt.ylabel('PC 2')\n",
    "plt.legend()\n",
    "plt.show()"
   ]
  },
  {
   "cell_type": "code",
   "execution_count": 10,
   "metadata": {},
   "outputs": [
    {
     "data": {
      "text/plain": [
       "array([0.33794798, 0.20441125])"
      ]
     },
     "execution_count": 10,
     "metadata": {},
     "output_type": "execute_result"
    }
   ],
   "source": [
    "pca.explained_variance_ratio_"
   ]
  }
 ],
 "metadata": {
  "kernelspec": {
   "display_name": "Python 3",
   "language": "python",
   "name": "python3"
  },
  "language_info": {
   "codemirror_mode": {
    "name": "ipython",
    "version": 3
   },
   "file_extension": ".py",
   "mimetype": "text/x-python",
   "name": "python",
   "nbconvert_exporter": "python",
   "pygments_lexer": "ipython3",
   "version": "3.6.5"
  }
 },
 "nbformat": 4,
 "nbformat_minor": 2
}
