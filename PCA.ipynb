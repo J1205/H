{
 "cells": [
  {
   "cell_type": "code",
   "execution_count": 1,
   "metadata": {},
   "outputs": [],
   "source": [
    "import matplotlib.pyplot as plt\n",
    "\n",
    "from sklearn.decomposition import PCA\n",
    "from sklearn.preprocessing import StandardScaler\n",
    "\n",
    "from sklearn import metrics\n",
    "from scipy.io import loadmat\n",
    "\n",
    "import pandas as pd\n",
    "import numpy as np"
   ]
  },
  {
   "cell_type": "code",
   "execution_count": 2,
   "metadata": {},
   "outputs": [
    {
     "data": {
      "text/html": [
       "<div>\n",
       "<style scoped>\n",
       "    .dataframe tbody tr th:only-of-type {\n",
       "        vertical-align: middle;\n",
       "    }\n",
       "\n",
       "    .dataframe tbody tr th {\n",
       "        vertical-align: top;\n",
       "    }\n",
       "\n",
       "    .dataframe thead th {\n",
       "        text-align: right;\n",
       "    }\n",
       "</style>\n",
       "<table border=\"1\" class=\"dataframe\">\n",
       "  <thead>\n",
       "    <tr style=\"text-align: right;\">\n",
       "      <th></th>\n",
       "      <th>Gene.Symbol</th>\n",
       "      <th>Protein.names</th>\n",
       "      <th>Brain</th>\n",
       "      <th>Brainstem</th>\n",
       "      <th>Cerebellum</th>\n",
       "      <th>Corpus.Callosum</th>\n",
       "      <th>Motor.Cortex</th>\n",
       "      <th>Olfactory.Bulb</th>\n",
       "      <th>Optic.Nerve</th>\n",
       "      <th>Prefrontal.Cortex</th>\n",
       "      <th>Striatum</th>\n",
       "      <th>Thalamus</th>\n",
       "      <th>Ventral.Hippocampus</th>\n",
       "    </tr>\n",
       "  </thead>\n",
       "  <tbody>\n",
       "    <tr>\n",
       "      <th>0</th>\n",
       "      <td>Actb</td>\n",
       "      <td>Actin, cytoplasmic 1;Actin, cytoplasmic 1, N-t...</td>\n",
       "      <td>38.36424</td>\n",
       "      <td>38.597946</td>\n",
       "      <td>38.608215</td>\n",
       "      <td>38.560871</td>\n",
       "      <td>38.683807</td>\n",
       "      <td>38.544762</td>\n",
       "      <td>38.342659</td>\n",
       "      <td>38.794571</td>\n",
       "      <td>38.805550</td>\n",
       "      <td>38.608353</td>\n",
       "      <td>38.707729</td>\n",
       "    </tr>\n",
       "    <tr>\n",
       "      <th>1</th>\n",
       "      <td>Tuba1b</td>\n",
       "      <td>Tubulin alpha-1B chain</td>\n",
       "      <td>38.06412</td>\n",
       "      <td>38.699623</td>\n",
       "      <td>38.578018</td>\n",
       "      <td>37.367970</td>\n",
       "      <td>38.612125</td>\n",
       "      <td>38.513100</td>\n",
       "      <td>37.472519</td>\n",
       "      <td>38.723942</td>\n",
       "      <td>38.565590</td>\n",
       "      <td>38.677383</td>\n",
       "      <td>38.387959</td>\n",
       "    </tr>\n",
       "    <tr>\n",
       "      <th>2</th>\n",
       "      <td>Gapdh</td>\n",
       "      <td>Glyceraldehyde-3-phosphate dehydrogenase</td>\n",
       "      <td>37.33942</td>\n",
       "      <td>37.782997</td>\n",
       "      <td>37.776901</td>\n",
       "      <td>37.229519</td>\n",
       "      <td>37.656853</td>\n",
       "      <td>37.438751</td>\n",
       "      <td>36.675171</td>\n",
       "      <td>37.747265</td>\n",
       "      <td>37.826431</td>\n",
       "      <td>37.695602</td>\n",
       "      <td>37.608780</td>\n",
       "    </tr>\n",
       "  </tbody>\n",
       "</table>\n",
       "</div>"
      ],
      "text/plain": [
       "  Gene.Symbol                                      Protein.names     Brain  \\\n",
       "0        Actb  Actin, cytoplasmic 1;Actin, cytoplasmic 1, N-t...  38.36424   \n",
       "1      Tuba1b                             Tubulin alpha-1B chain  38.06412   \n",
       "2       Gapdh           Glyceraldehyde-3-phosphate dehydrogenase  37.33942   \n",
       "\n",
       "   Brainstem  Cerebellum  Corpus.Callosum  Motor.Cortex  Olfactory.Bulb  \\\n",
       "0  38.597946   38.608215        38.560871     38.683807       38.544762   \n",
       "1  38.699623   38.578018        37.367970     38.612125       38.513100   \n",
       "2  37.782997   37.776901        37.229519     37.656853       37.438751   \n",
       "\n",
       "   Optic.Nerve  Prefrontal.Cortex   Striatum   Thalamus  Ventral.Hippocampus  \n",
       "0    38.342659          38.794571  38.805550  38.608353            38.707729  \n",
       "1    37.472519          38.723942  38.565590  38.677383            38.387959  \n",
       "2    36.675171          37.747265  37.826431  37.695602            37.608780  "
      ]
     },
     "execution_count": 2,
     "metadata": {},
     "output_type": "execute_result"
    }
   ],
   "source": [
    "s = pd.read_csv('mann.csv')\n",
    "s.head(3)"
   ]
  },
  {
   "cell_type": "code",
   "execution_count": 3,
   "metadata": {},
   "outputs": [],
   "source": [
    "data = s.iloc[:, 3:] "
   ]
  },
  {
   "cell_type": "code",
   "execution_count": 4,
   "metadata": {},
   "outputs": [],
   "source": [
    "s = data.T"
   ]
  },
  {
   "cell_type": "code",
   "execution_count": 5,
   "metadata": {},
   "outputs": [],
   "source": [
    "s = StandardScaler().fit_transform(s)"
   ]
  },
  {
   "cell_type": "code",
   "execution_count": 6,
   "metadata": {},
   "outputs": [],
   "source": [
    "pca = PCA(n_components=2)"
   ]
  },
  {
   "cell_type": "code",
   "execution_count": 7,
   "metadata": {},
   "outputs": [
    {
     "data": {
      "text/plain": [
       "array([[ 47.25203424, -24.11899894],\n",
       "       [ 50.84046551, -17.60827085],\n",
       "       [-11.83086244,  19.1001003 ],\n",
       "       [-33.29890621,  -7.27581371],\n",
       "       [ -8.8568698 ,   2.44194821],\n",
       "       [ 19.42872708,  71.55605756],\n",
       "       [-18.19734324, -13.09201635],\n",
       "       [-12.43308941, -14.74123515],\n",
       "       [ -6.89234559, -10.17568954],\n",
       "       [-26.01181015,  -6.08608153]])"
      ]
     },
     "execution_count": 7,
     "metadata": {},
     "output_type": "execute_result"
    }
   ],
   "source": [
    "h = pca.fit_transform(s)\n",
    "h"
   ]
  },
  {
   "cell_type": "code",
   "execution_count": 8,
   "metadata": {},
   "outputs": [],
   "source": [
    "labels = [\n",
    "'Brainstem', \n",
    "'Cerebellum',\n",
    "'Corpus Callosum', \n",
    "'Motor Cortex', \n",
    "'Olfactory Bulb', \n",
    "'Optic Nerve', \n",
    "'Prefrontal Cortex',\n",
    "'Striatum',\n",
    "'Thalamus',\n",
    "'Hippocampus'\n",
    "]"
   ]
  },
  {
   "cell_type": "code",
   "execution_count": 9,
   "metadata": {
    "scrolled": true
   },
   "outputs": [
    {
     "data": {
      "image/png": "[encoded data removed]",
      "text/plain": [
       "<Figure size 360x360 with 1 Axes>"
      ]
     },
     "metadata": {},
     "output_type": "display_data"
    }
   ],
   "source": [
    "fig = plt.figure(figsize = (5,5))\n",
    "ax = fig.add_subplot(1,1,1) \n",
    "\n",
    "for i in range(10):\n",
    "    plt.scatter(h[i, 0], h[i, 1], label=labels[i])\n",
    "    \n",
    "plt.xlabel('PC 1')\n",
    "plt.ylabel('PC 2')\n",
    "plt.legend()\n",
    "plt.show()"
   ]
  },
  {
   "cell_type": "code",
   "execution_count": 10,
   "metadata": {},
   "outputs": [
    {
     "data": {
      "text/plain": [
       "array([0.30250616, 0.27249808])"
      ]
     },
     "execution_count": 10,
     "metadata": {},
     "output_type": "execute_result"
    }
   ],
   "source": [
    "pca.explained_variance_ratio_"
   ]
  }
 ],
 "metadata": {
  "kernelspec": {
   "display_name": "Python 3",
   "language": "python",
   "name": "python3"
  },
  "language_info": {
   "codemirror_mode": {
    "name": "ipython",
    "version": 3
   },
   "file_extension": ".py",
   "mimetype": "text/x-python",
   "name": "python",
   "nbconvert_exporter": "python",
   "pygments_lexer": "ipython3",
   "version": "3.6.5"
  }
 },
 "nbformat": 4,
 "nbformat_minor": 2
}
